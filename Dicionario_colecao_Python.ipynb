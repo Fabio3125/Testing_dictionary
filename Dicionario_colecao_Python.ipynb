{
 "cells": [
  {
   "cell_type": "markdown",
   "id": "f232cac5",
   "metadata": {},
   "source": [
    "- Dicionários"
   ]
  },
  {
   "cell_type": "code",
   "execution_count": 2,
   "id": "bdc4ac78",
   "metadata": {},
   "outputs": [
    {
     "name": "stdout",
     "output_type": "stream",
     "text": [
      "{'nome': 'Augusto', 'idade': 35, 'Setor': 'Manutenção', 'Cursos': ['NR10', 'NR33', 'NR35']}\n"
     ]
    }
   ],
   "source": [
    "funcionario = {'nome':'Augusto', 'idade':35, 'Setor': 'Manutenção', 'Cursos':['NR10','NR33','NR35']}\n",
    "print(funcionario)"
   ]
  },
  {
   "cell_type": "code",
   "execution_count": 3,
   "id": "66d7f243",
   "metadata": {},
   "outputs": [
    {
     "name": "stdout",
     "output_type": "stream",
     "text": [
      "O funcionario Augusto possui curso de NR33?\n"
     ]
    }
   ],
   "source": [
    "print('O funcionario {} possui curso de NR33?'.format(funcionario.get('nome')))"
   ]
  },
  {
   "cell_type": "markdown",
   "id": "3c714415",
   "metadata": {},
   "source": [
    "- Outra alternativa ou get():"
   ]
  },
  {
   "cell_type": "code",
   "execution_count": 4,
   "id": "7abd6f9f",
   "metadata": {},
   "outputs": [
    {
     "name": "stdout",
     "output_type": "stream",
     "text": [
      "O funcionario Augusto possui curso de NR33?\n"
     ]
    }
   ],
   "source": [
    "print('O funcionario {} possui curso de NR33?'.format(funcionario['nome']))"
   ]
  },
  {
   "cell_type": "code",
   "execution_count": 5,
   "id": "227ef0c2",
   "metadata": {},
   "outputs": [
    {
     "name": "stdout",
     "output_type": "stream",
     "text": [
      "NR10\n",
      "NR33\n",
      "NR35\n"
     ]
    }
   ],
   "source": [
    "for valor in funcionario['Cursos']:\n",
    "    print(valor)"
   ]
  },
  {
   "cell_type": "code",
   "execution_count": 6,
   "id": "1889e7c9",
   "metadata": {},
   "outputs": [
    {
     "name": "stdout",
     "output_type": "stream",
     "text": [
      "Sim\n"
     ]
    }
   ],
   "source": [
    "for valor in funcionario['Cursos']:\n",
    "    if(valor == 'NR33'):\n",
    "        print('Sim')"
   ]
  },
  {
   "cell_type": "code",
   "execution_count": 7,
   "id": "e02736ef",
   "metadata": {},
   "outputs": [
    {
     "name": "stdout",
     "output_type": "stream",
     "text": [
      "O funcionario Augusto possui curso de NR33? SIM!\n"
     ]
    }
   ],
   "source": [
    "resposta = ''\n",
    "\n",
    "for valor in funcionario['Cursos']:\n",
    "    if(valor == 'NR33'):\n",
    "        resposta = 'SIM'\n",
    "        break\n",
    "    else:\n",
    "        resposta = 'NÃO'\n",
    "\n",
    "print('O funcionario {} possui curso de NR33? {}!'.format(funcionario['nome'], resposta))"
   ]
  },
  {
   "cell_type": "markdown",
   "id": "fe990527",
   "metadata": {},
   "source": [
    "- Dicionarios aninhados:"
   ]
  },
  {
   "cell_type": "code",
   "execution_count": 12,
   "id": "44fbc959",
   "metadata": {},
   "outputs": [
    {
     "name": "stdout",
     "output_type": "stream",
     "text": [
      "['NR10', 'NR33', 'NR35']\n"
     ]
    }
   ],
   "source": [
    "funcionarios = {'funcionario1':{'nome':'Augusto', 'idade':35, 'Setor': 'Manutenção', 'Cursos':['NR10','NR33','NR35']},\n",
    "                'funcionario2':{'nome':'Pedro', 'idade':25, 'Setor': 'Manutenção', 'Cursos':['NR35']},\n",
    "                'funcionario3':{'nome':'Felipe', 'idade':40, 'Setor': 'Administração', 'Cursos':['SAP']}}\n",
    "\n",
    "print(funcionarios['funcionario1']['Cursos'])"
   ]
  },
  {
   "cell_type": "code",
   "execution_count": 14,
   "id": "5c338102",
   "metadata": {},
   "outputs": [
    {
     "name": "stdout",
     "output_type": "stream",
     "text": [
      "O funcionario Augusto possui curso de NR33? SIM!\n"
     ]
    }
   ],
   "source": [
    "resposta = ''\n",
    "\n",
    "\n",
    "for valor in funcionarios['funcionario1']['Cursos']:\n",
    "    if(valor == 'NR33'):\n",
    "        resposta = 'SIM'\n",
    "        break\n",
    "    else:\n",
    "        resposta = 'NÃO'\n",
    "\n",
    "print('O funcionario {} possui curso de NR33? {}!'.format(funcionarios['funcionario1']['nome'], resposta))"
   ]
  },
  {
   "cell_type": "code",
   "execution_count": 15,
   "id": "6f8926e8",
   "metadata": {},
   "outputs": [
    {
     "name": "stdout",
     "output_type": "stream",
     "text": [
      "O funcionario Pedro possui curso de NR33? NÃO!\n"
     ]
    }
   ],
   "source": [
    "resposta = ''\n",
    "\n",
    "\n",
    "for valor in funcionarios['funcionario2']['Cursos']:\n",
    "    if(valor == 'NR33'):\n",
    "        resposta = 'SIM'\n",
    "        break\n",
    "    else:\n",
    "        resposta = 'NÃO'\n",
    "\n",
    "print('O funcionario {} possui curso de NR33? {}!'.format(funcionarios['funcionario2']['nome'], resposta))"
   ]
  },
  {
   "cell_type": "code",
   "execution_count": 16,
   "id": "77a54a70",
   "metadata": {},
   "outputs": [
    {
     "name": "stdout",
     "output_type": "stream",
     "text": [
      "O funcionario Felipe possui curso de NR33? NÃO!\n"
     ]
    }
   ],
   "source": [
    "resposta = ''\n",
    "\n",
    "\n",
    "for valor in funcionarios['funcionario3']['Cursos']:\n",
    "    if(valor == 'NR33'):\n",
    "        resposta = 'SIM'\n",
    "        break\n",
    "    else:\n",
    "        resposta = 'NÃO'\n",
    "\n",
    "print('O funcionario {} possui curso de NR33? {}!'.format(funcionarios['funcionario3']['nome'], resposta))"
   ]
  }
 ],
 "metadata": {
  "kernelspec": {
   "display_name": "Python 3 (ipykernel)",
   "language": "python",
   "name": "python3"
  },
  "language_info": {
   "codemirror_mode": {
    "name": "ipython",
    "version": 3
   },
   "file_extension": ".py",
   "mimetype": "text/x-python",
   "name": "python",
   "nbconvert_exporter": "python",
   "pygments_lexer": "ipython3",
   "version": "3.10.1"
  },
  "varInspector": {
   "cols": {
    "lenName": 16,
    "lenType": 16,
    "lenVar": 40
   },
   "kernels_config": {
    "python": {
     "delete_cmd_postfix": "",
     "delete_cmd_prefix": "del ",
     "library": "var_list.py",
     "varRefreshCmd": "print(var_dic_list())"
    },
    "r": {
     "delete_cmd_postfix": ") ",
     "delete_cmd_prefix": "rm(",
     "library": "var_list.r",
     "varRefreshCmd": "cat(var_dic_list()) "
    }
   },
   "types_to_exclude": [
    "module",
    "function",
    "builtin_function_or_method",
    "instance",
    "_Feature"
   ],
   "window_display": false
  }
 },
 "nbformat": 4,
 "nbformat_minor": 5
}
